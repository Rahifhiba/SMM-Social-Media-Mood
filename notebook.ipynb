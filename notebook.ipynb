{
 "cells": [
  {
   "cell_type": "markdown",
   "metadata": {},
   "source": [
    "# 😀 Sentiment Analysis 🙁"
   ]
  },
  {
   "cell_type": "code",
   "execution_count": 1,
   "metadata": {},
   "outputs": [
    {
     "name": "stderr",
     "output_type": "stream",
     "text": [
      "[nltk_data] Downloading package wordnet to\n",
      "[nltk_data]     C:\\Users\\dell\\AppData\\Roaming\\nltk_data...\n",
      "[nltk_data]   Package wordnet is already up-to-date!\n"
     ]
    }
   ],
   "source": [
    "import re\n",
    "from nltk.stem import WordNetLemmatizer\n",
    "from nltk.corpus import wordnet\n",
    "import nltk\n",
    "nltk.download('wordnet')\n",
    "import emoji\n",
    "from tqdm import tqdm\n",
    "import pandas as pd\n",
    "import matplotlib.pyplot as plt\n",
    "import numpy as np\n",
    "import seaborn as sns\n",
    "from sklearn.model_selection import train_test_split, cross_val_score, cross_val_predict\n",
    "from sklearn.preprocessing import LabelEncoder\n",
    "import contractions\n",
    "import swifter\n",
    "from sklearn.metrics import f1_score, confusion_matrix, classification_report\n",
    "\n",
    "from sklearn.feature_extraction.text import TfidfVectorizer\n",
    "from scipy.sparse import csr_matrix\n",
    "\n",
    "from sklearn.tree import DecisionTreeClassifier\n",
    "from sklearn.linear_model import SGDClassifier, LogisticRegression\n",
    "from sklearn.svm import LinearSVC\n",
    "\n",
    "from sklearn.decomposition import PCA\n",
    "from xgboost import XGBClassifier\n",
    "\n",
    "from sklearn.ensemble import RandomForestClassifier\n",
    "from sklearn.svm import SVC\n"
   ]
  },
  {
   "cell_type": "markdown",
   "metadata": {},
   "source": [
    "Dataset:\n",
    "- [Sentiment140 dataset with 1.6 million tweets](https://www.kaggle.com/datasets/kazanova/sentiment140)"
   ]
  },
  {
   "cell_type": "code",
   "execution_count": 2,
   "metadata": {},
   "outputs": [
    {
     "data": {
      "text/html": [
       "<div>\n",
       "<style scoped>\n",
       "    .dataframe tbody tr th:only-of-type {\n",
       "        vertical-align: middle;\n",
       "    }\n",
       "\n",
       "    .dataframe tbody tr th {\n",
       "        vertical-align: top;\n",
       "    }\n",
       "\n",
       "    .dataframe thead th {\n",
       "        text-align: right;\n",
       "    }\n",
       "</style>\n",
       "<table border=\"1\" class=\"dataframe\">\n",
       "  <thead>\n",
       "    <tr style=\"text-align: right;\">\n",
       "      <th></th>\n",
       "      <th>sentiment</th>\n",
       "      <th>text</th>\n",
       "    </tr>\n",
       "  </thead>\n",
       "  <tbody>\n",
       "    <tr>\n",
       "      <th>0</th>\n",
       "      <td>0</td>\n",
       "      <td>@switchfoot http://twitpic.com/2y1zl - Awww, t...</td>\n",
       "    </tr>\n",
       "    <tr>\n",
       "      <th>1</th>\n",
       "      <td>0</td>\n",
       "      <td>is upset that he can't update his Facebook by ...</td>\n",
       "    </tr>\n",
       "    <tr>\n",
       "      <th>2</th>\n",
       "      <td>0</td>\n",
       "      <td>@Kenichan I dived many times for the ball. Man...</td>\n",
       "    </tr>\n",
       "    <tr>\n",
       "      <th>3</th>\n",
       "      <td>0</td>\n",
       "      <td>my whole body feels itchy and like its on fire</td>\n",
       "    </tr>\n",
       "    <tr>\n",
       "      <th>4</th>\n",
       "      <td>0</td>\n",
       "      <td>@nationwideclass no, it's not behaving at all....</td>\n",
       "    </tr>\n",
       "    <tr>\n",
       "      <th>...</th>\n",
       "      <td>...</td>\n",
       "      <td>...</td>\n",
       "    </tr>\n",
       "    <tr>\n",
       "      <th>1599995</th>\n",
       "      <td>4</td>\n",
       "      <td>Just woke up. Having no school is the best fee...</td>\n",
       "    </tr>\n",
       "    <tr>\n",
       "      <th>1599996</th>\n",
       "      <td>4</td>\n",
       "      <td>TheWDB.com - Very cool to hear old Walt interv...</td>\n",
       "    </tr>\n",
       "    <tr>\n",
       "      <th>1599997</th>\n",
       "      <td>4</td>\n",
       "      <td>Are you ready for your MoJo Makeover? Ask me f...</td>\n",
       "    </tr>\n",
       "    <tr>\n",
       "      <th>1599998</th>\n",
       "      <td>4</td>\n",
       "      <td>Happy 38th Birthday to my boo of alll time!!! ...</td>\n",
       "    </tr>\n",
       "    <tr>\n",
       "      <th>1599999</th>\n",
       "      <td>4</td>\n",
       "      <td>happy #charitytuesday @theNSPCC @SparksCharity...</td>\n",
       "    </tr>\n",
       "  </tbody>\n",
       "</table>\n",
       "<p>1600000 rows × 2 columns</p>\n",
       "</div>"
      ],
      "text/plain": [
       "         sentiment                                               text\n",
       "0                0  @switchfoot http://twitpic.com/2y1zl - Awww, t...\n",
       "1                0  is upset that he can't update his Facebook by ...\n",
       "2                0  @Kenichan I dived many times for the ball. Man...\n",
       "3                0    my whole body feels itchy and like its on fire \n",
       "4                0  @nationwideclass no, it's not behaving at all....\n",
       "...            ...                                                ...\n",
       "1599995          4  Just woke up. Having no school is the best fee...\n",
       "1599996          4  TheWDB.com - Very cool to hear old Walt interv...\n",
       "1599997          4  Are you ready for your MoJo Makeover? Ask me f...\n",
       "1599998          4  Happy 38th Birthday to my boo of alll time!!! ...\n",
       "1599999          4  happy #charitytuesday @theNSPCC @SparksCharity...\n",
       "\n",
       "[1600000 rows x 2 columns]"
      ]
     },
     "execution_count": 2,
     "metadata": {},
     "output_type": "execute_result"
    }
   ],
   "source": [
    "df = pd.read_csv('train.csv', header=None, names=[\"sentiment\", \"ids\", \"date\", \"flag\", \"user\", \"text\"], index_col=False)\n",
    "df.drop(columns=[\"ids\", \"date\", \"flag\", \"user\"], inplace=True)\n",
    "df"
   ]
  },
  {
   "cell_type": "markdown",
   "metadata": {},
   "source": [
    "Sentiment labeling in the dataset:\n",
    "- 0 = negative\n",
    "- 4 = positive"
   ]
  },
  {
   "cell_type": "code",
   "execution_count": 3,
   "metadata": {},
   "outputs": [
    {
     "data": {
      "text/html": [
       "<div>\n",
       "<style scoped>\n",
       "    .dataframe tbody tr th:only-of-type {\n",
       "        vertical-align: middle;\n",
       "    }\n",
       "\n",
       "    .dataframe tbody tr th {\n",
       "        vertical-align: top;\n",
       "    }\n",
       "\n",
       "    .dataframe thead th {\n",
       "        text-align: right;\n",
       "    }\n",
       "</style>\n",
       "<table border=\"1\" class=\"dataframe\">\n",
       "  <thead>\n",
       "    <tr style=\"text-align: right;\">\n",
       "      <th></th>\n",
       "      <th>sentiment</th>\n",
       "      <th>text</th>\n",
       "    </tr>\n",
       "  </thead>\n",
       "  <tbody>\n",
       "    <tr>\n",
       "      <th>0</th>\n",
       "      <td>0</td>\n",
       "      <td>@switchfoot http://twitpic.com/2y1zl - Awww, t...</td>\n",
       "    </tr>\n",
       "    <tr>\n",
       "      <th>1</th>\n",
       "      <td>0</td>\n",
       "      <td>is upset that he can't update his Facebook by ...</td>\n",
       "    </tr>\n",
       "    <tr>\n",
       "      <th>2</th>\n",
       "      <td>0</td>\n",
       "      <td>@Kenichan I dived many times for the ball. Man...</td>\n",
       "    </tr>\n",
       "    <tr>\n",
       "      <th>3</th>\n",
       "      <td>0</td>\n",
       "      <td>my whole body feels itchy and like its on fire</td>\n",
       "    </tr>\n",
       "    <tr>\n",
       "      <th>4</th>\n",
       "      <td>0</td>\n",
       "      <td>@nationwideclass no, it's not behaving at all....</td>\n",
       "    </tr>\n",
       "    <tr>\n",
       "      <th>...</th>\n",
       "      <td>...</td>\n",
       "      <td>...</td>\n",
       "    </tr>\n",
       "    <tr>\n",
       "      <th>1599995</th>\n",
       "      <td>1</td>\n",
       "      <td>Just woke up. Having no school is the best fee...</td>\n",
       "    </tr>\n",
       "    <tr>\n",
       "      <th>1599996</th>\n",
       "      <td>1</td>\n",
       "      <td>TheWDB.com - Very cool to hear old Walt interv...</td>\n",
       "    </tr>\n",
       "    <tr>\n",
       "      <th>1599997</th>\n",
       "      <td>1</td>\n",
       "      <td>Are you ready for your MoJo Makeover? Ask me f...</td>\n",
       "    </tr>\n",
       "    <tr>\n",
       "      <th>1599998</th>\n",
       "      <td>1</td>\n",
       "      <td>Happy 38th Birthday to my boo of alll time!!! ...</td>\n",
       "    </tr>\n",
       "    <tr>\n",
       "      <th>1599999</th>\n",
       "      <td>1</td>\n",
       "      <td>happy #charitytuesday @theNSPCC @SparksCharity...</td>\n",
       "    </tr>\n",
       "  </tbody>\n",
       "</table>\n",
       "<p>1600000 rows × 2 columns</p>\n",
       "</div>"
      ],
      "text/plain": [
       "         sentiment                                               text\n",
       "0                0  @switchfoot http://twitpic.com/2y1zl - Awww, t...\n",
       "1                0  is upset that he can't update his Facebook by ...\n",
       "2                0  @Kenichan I dived many times for the ball. Man...\n",
       "3                0    my whole body feels itchy and like its on fire \n",
       "4                0  @nationwideclass no, it's not behaving at all....\n",
       "...            ...                                                ...\n",
       "1599995          1  Just woke up. Having no school is the best fee...\n",
       "1599996          1  TheWDB.com - Very cool to hear old Walt interv...\n",
       "1599997          1  Are you ready for your MoJo Makeover? Ask me f...\n",
       "1599998          1  Happy 38th Birthday to my boo of alll time!!! ...\n",
       "1599999          1  happy #charitytuesday @theNSPCC @SparksCharity...\n",
       "\n",
       "[1600000 rows x 2 columns]"
      ]
     },
     "execution_count": 3,
     "metadata": {},
     "output_type": "execute_result"
    }
   ],
   "source": [
    "df.sentiment = LabelEncoder().fit_transform(df.sentiment)\n",
    "df"
   ]
  },
  {
   "cell_type": "markdown",
   "metadata": {},
   "source": [
    "Sentiment labeling now:\n",
    "- 0 = negative\n",
    "- 1 = positive"
   ]
  },
  {
   "cell_type": "code",
   "execution_count": 4,
   "metadata": {},
   "outputs": [
    {
     "data": {
      "image/png": "[encoded data removed]",
      "text/plain": [
       "<Figure size 1000x600 with 1 Axes>"
      ]
     },
     "metadata": {},
     "output_type": "display_data"
    }
   ],
   "source": [
    "sentiment_counts = df['sentiment'].value_counts()\n",
    "labels = sentiment_counts.index.map({0: 'Negative', 1: 'Positive'})\n",
    "\n",
    "plt.figure(figsize=(10, 6))\n",
    "plt.pie(\n",
    "    sentiment_counts.values,\n",
    "    labels=labels,\n",
    "    autopct='%1.1f%%',\n",
    "    startangle=90\n",
    ")\n",
    "plt.title('Distribution of sentiment in dataset')\n",
    "plt.show()"
   ]
  },
  {
   "cell_type": "markdown",
   "metadata": {},
   "source": [
    "# Preprocessing"
   ]
  },
  {
   "cell_type": "code",
   "execution_count": 5,
   "metadata": {},
   "outputs": [
    {
     "name": "stdout",
     "output_type": "stream",
     "text": [
      "2024 saw incumbents ♥ struggle globally due to economic woes and conflicts. Populists gained ground, deepening political divides. #Elections2024 #GlobalTrends https://t.co/8M00R0k8EA \n",
      "saw incumbent heartsuit struggle globally due to economic woe and conflict populist gained ground deepening political divide election globaltrends\n"
     ]
    }
   ],
   "source": [
    "class TextPreprocessor:\n",
    "    def __init__(self):\n",
    "        # Initialize the word lemmatizer and the emojis dictionary\n",
    "        self.word_lemmatizer = WordNetLemmatizer()\n",
    "        self.emojis = {\n",
    "            ':)': 'smile',\n",
    "             ':-)': 'smile',\n",
    "             ';d': 'wink',\n",
    "             ':-E': 'vampire',\n",
    "             ':(': 'sad',\n",
    "\n",
    "            ':-(': 'sad',\n",
    "             ':-<': 'sad',\n",
    "             ':P': 'raspberry',\n",
    "             ':O': 'surprised',\n",
    "\n",
    "            ':-@': 'shocked',\n",
    "             ':@': 'shocked',\n",
    "            ':-$': 'confused',\n",
    "             ':\\\\': 'annoyed',\n",
    "\n",
    "            ':#': 'mute',\n",
    "             ':X': 'mute',\n",
    "             ':^)': 'smile',\n",
    "             ':-&': 'confused',\n",
    "             '$_$': 'greedy',\n",
    "\n",
    "            '@@': 'eyeroll',\n",
    "             ':-!': 'confused',\n",
    "             ':-D': 'smile',\n",
    "             ':-0': 'yell',\n",
    "             'O.o': 'confused',\n",
    "\n",
    "            '<(-_-)>': 'robot',\n",
    "             'd[-_-]b': 'dj',\n",
    "             \":'-)\": 'sad smile',\n",
    "             ';)': 'wink',\n",
    "             ';D': 'wink',\n",
    "\n",
    "            ';-)': 'wink',\n",
    "             'O:-)': 'angel',\n",
    "            'O*-)': 'angel',\n",
    "            '(:-D': 'gossip',\n",
    "             '=^.^=': 'cat',\n",
    "             ':D':'smile',\n",
    "        }\n",
    "\n",
    "    def clean_text(self, text):\n",
    "        \"\"\"Clean text from unwanted elements (urls, mentions, hashtags,\n",
    "        non-alphabetical characters) and handle CamelCase hashtags.\"\"\"\n",
    "\n",
    "        def split_camel_case(hashtag):\n",
    "            \"\"\"Split CamelCase hashtags into separate words.\"\"\"\n",
    "            return re.sub(r'(?<!^)(?=[A-Z])', ' ', hashtag)\n",
    "        text = text.strip()\n",
    "        text = text.lower()\n",
    "        text = re.sub(r'https?://\\S+|www\\.\\S+', '', text)\n",
    "        text = re.sub(r'@\\w+', '', text)\n",
    "        text = re.sub(r'#(\\w+)', lambda m: split_camel_case(m.group(1)), text)\n",
    "        text = re.sub(r'[^\\w\\s]', ' ', text)\n",
    "        text = re.sub(r'[^a-zA-Z\\s]', '', text)\n",
    "\n",
    "        return text\n",
    "\n",
    "    def filter_non_english_words(self, text):\n",
    "        \"\"\"Remove all words that contain non-English characters.\"\"\"\n",
    "        pattern = r'\\b(?:[a-zA-Z]+|[a-zA-Z_]+)\\b'\n",
    "        filtered = re.findall(pattern, text)\n",
    "        return ' '.join(filtered)\n",
    "\n",
    "    def reduce_len_text(self, text):\n",
    "        \"\"\"Reduce text repetitive letters \"\"\"\n",
    "        repeat_regexp = re.compile(r'(.)\\1{2,}')\n",
    "        return repeat_regexp.sub(r'\\1', text)\n",
    "\n",
    "    def lemmatize_text(self, text):\n",
    "        \"\"\" Lemmatize text \"\"\"\n",
    "        return ' '.join(self.word_lemmatizer.lemmatize(word) for word in text.split())\n",
    "\n",
    "    def handle_emojies(self, text):\n",
    "        \"\"\"Replace emojis with text\"\"\"\n",
    "        text = emoji.demojize(text, delimiters=(\" \", \" \"))\n",
    "        for e, meaning in self.emojis.items():\n",
    "            text = text.replace(e, meaning)\n",
    "        return text\n",
    "\n",
    "    def preprocess(self, text):\n",
    "        \"\"\"\n",
    "        Preprocess using all the previous functions\n",
    "        \"\"\"\n",
    "        replace_emojie = self.handle_emojies(text)\n",
    "        cleaned_text = self.clean_text(replace_emojie)\n",
    "        no_repetition = self.reduce_len_text(cleaned_text)\n",
    "        lemmatized_text = self.lemmatize_text(no_repetition)\n",
    "        clean = self.filter_non_english_words(lemmatized_text)\n",
    "        return clean\n",
    "\n",
    "pre = TextPreprocessor()\n",
    "# test the preprocessor\n",
    "word = \"2024 saw incumbents ♥ struggle globally due to economic woes and conflicts. Populists gained ground, deepening political divides. #Elections2024 #GlobalTrends https://t.co/8M00R0k8EA \"\n",
    "print(word)\n",
    "print(pre.preprocess(word))\n",
    "\n"
   ]
  },
  {
   "cell_type": "code",
   "execution_count": 6,
   "metadata": {},
   "outputs": [
    {
     "data": {
      "application/vnd.jupyter.widget-view+json": {
       "model_id": "c05eff34a09b4d97adda62402563780d",
       "version_major": 2,
       "version_minor": 0
      },
      "text/plain": [
       "Pandas Apply:   0%|          | 0/1600000 [00:00<?, ?it/s]"
      ]
     },
     "metadata": {},
     "output_type": "display_data"
    },
    {
     "data": {
      "text/html": [
       "<div>\n",
       "<style scoped>\n",
       "    .dataframe tbody tr th:only-of-type {\n",
       "        vertical-align: middle;\n",
       "    }\n",
       "\n",
       "    .dataframe tbody tr th {\n",
       "        vertical-align: top;\n",
       "    }\n",
       "\n",
       "    .dataframe thead th {\n",
       "        text-align: right;\n",
       "    }\n",
       "</style>\n",
       "<table border=\"1\" class=\"dataframe\">\n",
       "  <thead>\n",
       "    <tr style=\"text-align: right;\">\n",
       "      <th></th>\n",
       "      <th>sentiment</th>\n",
       "      <th>text</th>\n",
       "      <th>cleaned_text</th>\n",
       "    </tr>\n",
       "  </thead>\n",
       "  <tbody>\n",
       "    <tr>\n",
       "      <th>0</th>\n",
       "      <td>0</td>\n",
       "      <td>@switchfoot http://twitpic.com/2y1zl - Awww, t...</td>\n",
       "      <td>aw that s a bummer you shoulda got david carr ...</td>\n",
       "    </tr>\n",
       "    <tr>\n",
       "      <th>1</th>\n",
       "      <td>0</td>\n",
       "      <td>is upset that he can't update his Facebook by ...</td>\n",
       "      <td>is upset that he can t update his facebook by ...</td>\n",
       "    </tr>\n",
       "    <tr>\n",
       "      <th>2</th>\n",
       "      <td>0</td>\n",
       "      <td>@Kenichan I dived many times for the ball. Man...</td>\n",
       "      <td>i dived many time for the ball managed to save...</td>\n",
       "    </tr>\n",
       "    <tr>\n",
       "      <th>3</th>\n",
       "      <td>0</td>\n",
       "      <td>my whole body feels itchy and like its on fire</td>\n",
       "      <td>my whole body feel itchy and like it on fire</td>\n",
       "    </tr>\n",
       "    <tr>\n",
       "      <th>4</th>\n",
       "      <td>0</td>\n",
       "      <td>@nationwideclass no, it's not behaving at all....</td>\n",
       "      <td>no it s not behaving at all i m mad why am i h...</td>\n",
       "    </tr>\n",
       "    <tr>\n",
       "      <th>...</th>\n",
       "      <td>...</td>\n",
       "      <td>...</td>\n",
       "      <td>...</td>\n",
       "    </tr>\n",
       "    <tr>\n",
       "      <th>1599995</th>\n",
       "      <td>1</td>\n",
       "      <td>Just woke up. Having no school is the best fee...</td>\n",
       "      <td>just woke up having no school is the best feel...</td>\n",
       "    </tr>\n",
       "    <tr>\n",
       "      <th>1599996</th>\n",
       "      <td>1</td>\n",
       "      <td>TheWDB.com - Very cool to hear old Walt interv...</td>\n",
       "      <td>thewdb com very cool to hear old walt interview</td>\n",
       "    </tr>\n",
       "    <tr>\n",
       "      <th>1599997</th>\n",
       "      <td>1</td>\n",
       "      <td>Are you ready for your MoJo Makeover? Ask me f...</td>\n",
       "      <td>are you ready for your mojo makeover ask me fo...</td>\n",
       "    </tr>\n",
       "    <tr>\n",
       "      <th>1599998</th>\n",
       "      <td>1</td>\n",
       "      <td>Happy 38th Birthday to my boo of alll time!!! ...</td>\n",
       "      <td>happy th birthday to my boo of al time tupac a...</td>\n",
       "    </tr>\n",
       "    <tr>\n",
       "      <th>1599999</th>\n",
       "      <td>1</td>\n",
       "      <td>happy #charitytuesday @theNSPCC @SparksCharity...</td>\n",
       "      <td>happy charitytuesday</td>\n",
       "    </tr>\n",
       "  </tbody>\n",
       "</table>\n",
       "<p>1596311 rows × 3 columns</p>\n",
       "</div>"
      ],
      "text/plain": [
       "         sentiment                                               text  \\\n",
       "0                0  @switchfoot http://twitpic.com/2y1zl - Awww, t...   \n",
       "1                0  is upset that he can't update his Facebook by ...   \n",
       "2                0  @Kenichan I dived many times for the ball. Man...   \n",
       "3                0    my whole body feels itchy and like its on fire    \n",
       "4                0  @nationwideclass no, it's not behaving at all....   \n",
       "...            ...                                                ...   \n",
       "1599995          1  Just woke up. Having no school is the best fee...   \n",
       "1599996          1  TheWDB.com - Very cool to hear old Walt interv...   \n",
       "1599997          1  Are you ready for your MoJo Makeover? Ask me f...   \n",
       "1599998          1  Happy 38th Birthday to my boo of alll time!!! ...   \n",
       "1599999          1  happy #charitytuesday @theNSPCC @SparksCharity...   \n",
       "\n",
       "                                              cleaned_text  \n",
       "0        aw that s a bummer you shoulda got david carr ...  \n",
       "1        is upset that he can t update his facebook by ...  \n",
       "2        i dived many time for the ball managed to save...  \n",
       "3             my whole body feel itchy and like it on fire  \n",
       "4        no it s not behaving at all i m mad why am i h...  \n",
       "...                                                    ...  \n",
       "1599995  just woke up having no school is the best feel...  \n",
       "1599996    thewdb com very cool to hear old walt interview  \n",
       "1599997  are you ready for your mojo makeover ask me fo...  \n",
       "1599998  happy th birthday to my boo of al time tupac a...  \n",
       "1599999                               happy charitytuesday  \n",
       "\n",
       "[1596311 rows x 3 columns]"
      ]
     },
     "execution_count": 6,
     "metadata": {},
     "output_type": "execute_result"
    }
   ],
   "source": [
    "df['cleaned_text'] = df['text'].swifter.apply(pre.preprocess)\n",
    "df = df[df['cleaned_text'] != '']\n",
    "df"
   ]
  },
  {
   "cell_type": "code",
   "execution_count": 7,
   "metadata": {},
   "outputs": [
    {
     "name": "stdout",
     "output_type": "stream",
     "text": [
      "Number of empty strings in cleaned_text: 0\n"
     ]
    }
   ],
   "source": [
    "print(f\"Number of empty strings in cleaned_text: {(df['cleaned_text'] == '').sum()}\")\n"
   ]
  },
  {
   "cell_type": "code",
   "execution_count": 8,
   "metadata": {},
   "outputs": [],
   "source": [
    "df = df.reset_index(drop=True)"
   ]
  },
  {
   "cell_type": "code",
   "execution_count": 9,
   "metadata": {},
   "outputs": [],
   "source": [
    "# from sentence_transformers import SentenceTransformer\n",
    "# import torch\n",
    "# model = SentenceTransformer('all-MiniLM-L6-v2', device='cuda' if torch.cuda.is_available() else 'cpu')\n",
    "# embeddings = model.encode(df['cleaned_text'], device=model.device)"
   ]
  },
  {
   "cell_type": "code",
   "execution_count": 10,
   "metadata": {},
   "outputs": [],
   "source": [
    "# embeddings"
   ]
  },
  {
   "cell_type": "code",
   "execution_count": 11,
   "metadata": {},
   "outputs": [],
   "source": [
    "# vect = TfidfVectorizer(stop_words='english', max_features=100000)\n",
    "vect = TfidfVectorizer(\n",
    "    stop_words='english',\n",
    "    ngram_range=(1, 2),\n",
    "    max_features=200000,\n",
    "    sublinear_tf=True\n",
    ")\n",
    "X= vect.fit_transform(df['cleaned_text'])"
   ]
  },
  {
   "cell_type": "code",
   "execution_count": 12,
   "metadata": {},
   "outputs": [],
   "source": [
    "X_train, X_test, y_train, y_test = train_test_split(X, df['sentiment'], test_size=0.2, random_state=42)"
   ]
  },
  {
   "cell_type": "code",
   "execution_count": 13,
   "metadata": {},
   "outputs": [
    {
     "name": "stdout",
     "output_type": "stream",
     "text": [
      "Shape of X_train: (1277048, 200000)\n",
      "Shape of X_test: (319263, 200000)\n",
      "Shape of y_train: (1277048,)\n",
      "Shape of y_test: (319263,)\n"
     ]
    }
   ],
   "source": [
    "# # df_vect = pd.DataFrame.sparse.from_spmatrix(X, columns=vect.get_feature_names_out())\n",
    "# df_vect = pd.DataFrame.sparse.from_spmatrix(X, columns=[vect.get_feature_names_out()])\n",
    "\n",
    "# df_vect\n",
    "print(\"Shape of X_train:\", X_train.shape)\n",
    "print(\"Shape of X_test:\", X_test.shape)\n",
    "print(\"Shape of y_train:\", y_train.shape)\n",
    "print(\"Shape of y_test:\", y_test.shape)"
   ]
  },
  {
   "cell_type": "code",
   "execution_count": 14,
   "metadata": {},
   "outputs": [],
   "source": [
    "def score_model(model):\n",
    "    \"\"\"Score the model using cross validation\"\"\"\n",
    "    y_pred = model.predict(X_test)\n",
    "    print(\"classification report:\\n\", classification_report(y_test, y_pred, target_names=['Negative', 'Positive']))\n",
    "    print(\"f1_score: \", f1_score(y_test, model.predict(X_test)))\n",
    "    if hasattr(model, 'predict_proba'):\n",
    "        print(\"predict proba:\\n\", model.predict_proba(X_test))\n",
    "        return model.predict_proba(X_test)\n"
   ]
  },
  {
   "cell_type": "markdown",
   "metadata": {},
   "source": [
    "# Logistic Regression"
   ]
  },
  {
   "cell_type": "markdown",
   "metadata": {},
   "source": [
    "old LR: \n",
    "\n",
    "classification report:\n",
    "               precision    recall  f1-score   support\n",
    "\n",
    "    Negative       0.79      0.75      0.77    159053\n",
    "    Positive       0.76      0.80      0.78    160210\n",
    "\n",
    "    accuracy                           0.78    319263\n",
    "   macro avg       0.78      0.78      0.78    319263\n",
    "weighted avg       0.78      0.78      0.78    319263\n",
    "\n",
    "f1_score:  0.7811460755060075"
   ]
  },
  {
   "cell_type": "code",
   "execution_count": 15,
   "metadata": {},
   "outputs": [
    {
     "name": "stdout",
     "output_type": "stream",
     "text": [
      "classification report:\n",
      "               precision    recall  f1-score   support\n",
      "\n",
      "    Negative       0.80      0.77      0.78    159053\n",
      "    Positive       0.78      0.81      0.79    160210\n",
      "\n",
      "    accuracy                           0.79    319263\n",
      "   macro avg       0.79      0.79      0.79    319263\n",
      "weighted avg       0.79      0.79      0.79    319263\n",
      "\n",
      "f1_score:  0.7931007040097949\n",
      "predict proba:\n",
      " [[0.18452842 0.81547158]\n",
      " [0.0461536  0.9538464 ]\n",
      " [0.58410107 0.41589893]\n",
      " ...\n",
      " [0.20872753 0.79127247]\n",
      " [0.34020624 0.65979376]\n",
      " [0.35731411 0.64268589]]\n"
     ]
    }
   ],
   "source": [
    "# Train the model\n",
    "lr = LogisticRegression(max_iter=1000)\n",
    "lr.fit(X_train, y_train)\n",
    "lr_prob = score_model(lr)"
   ]
  },
  {
   "cell_type": "markdown",
   "metadata": {},
   "source": [
    "# LinearSVC"
   ]
  },
  {
   "cell_type": "markdown",
   "metadata": {},
   "source": [
    "old f1 score: 77%"
   ]
  },
  {
   "cell_type": "code",
   "execution_count": 16,
   "metadata": {},
   "outputs": [
    {
     "name": "stdout",
     "output_type": "stream",
     "text": [
      "classification report:\n",
      "               precision    recall  f1-score   support\n",
      "\n",
      "    Negative       0.78      0.76      0.77    159053\n",
      "    Positive       0.77      0.79      0.78    160210\n",
      "\n",
      "    accuracy                           0.77    319263\n",
      "   macro avg       0.77      0.77      0.77    319263\n",
      "weighted avg       0.77      0.77      0.77    319263\n",
      "\n",
      "f1_score:  0.7791413864251618\n"
     ]
    },
    {
     "data": {
      "text/plain": [
       "np.float64(0.7791413864251618)"
      ]
     },
     "execution_count": 16,
     "metadata": {},
     "output_type": "execute_result"
    }
   ],
   "source": [
    "lsvc = LinearSVC()\n",
    "lsvc.fit(X_train, y_train)\n",
    "lsvc_prob = score_model(lsvc)\n",
    "f1_score(y_test, lsvc.predict(X_test))"
   ]
  },
  {
   "cell_type": "markdown",
   "metadata": {},
   "source": [
    "# XGBOOST Classifier"
   ]
  },
  {
   "cell_type": "code",
   "execution_count": 17,
   "metadata": {},
   "outputs": [
    {
     "name": "stderr",
     "output_type": "stream",
     "text": [
      "c:\\Users\\dell\\anaconda3\\envs\\Myenv\\Lib\\site-packages\\xgboost\\core.py:160: UserWarning: [22:32:27] WARNING: C:\\buildkite-agent\\builds\\buildkite-windows-cpu-autoscaling-group-i-0b3782d1791676daf-1\\xgboost\\xgboost-ci-windows\\src\\common\\error_msg.cc:27: The tree method `gpu_hist` is deprecated since 2.0.0. To use GPU training, set the `device` parameter to CUDA instead.\n",
      "\n",
      "    E.g. tree_method = \"hist\", device = \"cuda\"\n",
      "\n",
      "  warnings.warn(smsg, UserWarning)\n",
      "c:\\Users\\dell\\anaconda3\\envs\\Myenv\\Lib\\site-packages\\xgboost\\core.py:160: UserWarning: [22:32:27] WARNING: C:\\buildkite-agent\\builds\\buildkite-windows-cpu-autoscaling-group-i-0b3782d1791676daf-1\\xgboost\\xgboost-ci-windows\\src\\learner.cc:742: \n",
      "Parameters: { \"predictor\" } are not used.\n",
      "\n",
      "  warnings.warn(smsg, UserWarning)\n",
      "c:\\Users\\dell\\anaconda3\\envs\\Myenv\\Lib\\site-packages\\xgboost\\core.py:160: UserWarning: [22:41:20] WARNING: C:\\buildkite-agent\\builds\\buildkite-windows-cpu-autoscaling-group-i-0b3782d1791676daf-1\\xgboost\\xgboost-ci-windows\\src\\common\\error_msg.cc:27: The tree method `gpu_hist` is deprecated since 2.0.0. To use GPU training, set the `device` parameter to CUDA instead.\n",
      "\n",
      "    E.g. tree_method = \"hist\", device = \"cuda\"\n",
      "\n",
      "  warnings.warn(smsg, UserWarning)\n",
      "c:\\Users\\dell\\anaconda3\\envs\\Myenv\\Lib\\site-packages\\xgboost\\core.py:160: UserWarning: [22:41:20] WARNING: C:\\buildkite-agent\\builds\\buildkite-windows-cpu-autoscaling-group-i-0b3782d1791676daf-1\\xgboost\\xgboost-ci-windows\\src\\common\\error_msg.cc:58: Falling back to prediction using DMatrix due to mismatched devices. This might lead to higher memory usage and slower performance. XGBoost is running on: cuda:0, while the input data is on: cpu.\n",
      "Potential solutions:\n",
      "- Use a data structure that matches the device ordinal in the booster.\n",
      "- Set the device for booster before call to inplace_predict.\n",
      "\n",
      "This warning will only be shown once.\n",
      "\n",
      "  warnings.warn(smsg, UserWarning)\n"
     ]
    },
    {
     "name": "stdout",
     "output_type": "stream",
     "text": [
      "classification report:\n",
      "               precision    recall  f1-score   support\n",
      "\n",
      "    Negative       0.96      0.03      0.06    159053\n",
      "    Positive       0.51      1.00      0.68    160210\n",
      "\n",
      "    accuracy                           0.52    319263\n",
      "   macro avg       0.73      0.52      0.37    319263\n",
      "weighted avg       0.73      0.52      0.37    319263\n",
      "\n",
      "f1_score:  0.6751493436475933\n",
      "predict proba:\n",
      " [[0.45226747 0.54773253]\n",
      " [0.45226747 0.54773253]\n",
      " [0.45226747 0.54773253]\n",
      " ...\n",
      " [0.45226747 0.54773253]\n",
      " [0.45226747 0.54773253]\n",
      " [0.45226747 0.54773253]]\n"
     ]
    },
    {
     "data": {
      "text/plain": [
       "array([[0.45226747, 0.54773253],\n",
       "       [0.45226747, 0.54773253],\n",
       "       [0.45226747, 0.54773253],\n",
       "       ...,\n",
       "       [0.45226747, 0.54773253],\n",
       "       [0.45226747, 0.54773253],\n",
       "       [0.45226747, 0.54773253]], shape=(319263, 2), dtype=float32)"
      ]
     },
     "execution_count": 17,
     "metadata": {},
     "output_type": "execute_result"
    }
   ],
   "source": [
    "xgboost = XGBClassifier(n_estimators=500,\n",
    " learning_rate=0.1,\n",
    " max_depth=6,\n",
    " tree_method='gpu_hist',\n",
    " predictor='gpu_predictor')\n",
    "xgboost.fit(X_train,y_train)\n",
    "score_model(xgboost)"
   ]
  },
  {
   "cell_type": "markdown",
   "metadata": {},
   "source": [
    "# Hyperparameter Tuning for Logistic Regression"
   ]
  },
  {
   "cell_type": "markdown",
   "metadata": {},
   "source": [
    "Best model so far was Logistic Regression, let's make it better by "
   ]
  },
  {
   "cell_type": "code",
   "execution_count": 19,
   "metadata": {},
   "outputs": [
    {
     "name": "stderr",
     "output_type": "stream",
     "text": [
      "c:\\Users\\dell\\anaconda3\\envs\\Myenv\\Lib\\site-packages\\sklearn\\svm\\_base.py:1235: ConvergenceWarning: Liblinear failed to converge, increase the number of iterations.\n",
      "  warnings.warn(\n",
      "c:\\Users\\dell\\anaconda3\\envs\\Myenv\\Lib\\site-packages\\sklearn\\svm\\_base.py:1235: ConvergenceWarning: Liblinear failed to converge, increase the number of iterations.\n",
      "  warnings.warn(\n"
     ]
    },
    {
     "name": "stdout",
     "output_type": "stream",
     "text": [
      "classification report:\n",
      "               precision    recall  f1-score   support\n",
      "\n",
      "    Negative       0.83      0.80      0.81    159053\n",
      "    Positive       0.81      0.84      0.82    160210\n",
      "\n",
      "    accuracy                           0.82    319263\n",
      "   macro avg       0.82      0.82      0.82    319263\n",
      "weighted avg       0.82      0.82      0.82    319263\n",
      "\n",
      "f1_score:  0.8204691197567345\n",
      "predict proba:\n",
      " [[0.20568358 0.79431642]\n",
      " [0.05070981 0.94929019]\n",
      " [0.66115144 0.33884856]\n",
      " ...\n",
      " [0.21294348 0.78705652]\n",
      " [0.32573748 0.67426252]\n",
      " [0.26252245 0.73747755]]\n"
     ]
    }
   ],
   "source": [
    "from sklearn.model_selection import GridSearchCV\n",
    "\n",
    "params = {\n",
    "    'C': [0.1, 1, 10, 100],\n",
    "    'penalty': ['l1', 'l2'],\n",
    "    'class_weight': [None, 'balanced']\n",
    "}\n",
    "grid = GridSearchCV(LogisticRegression(solver='liblinear'), params, scoring='f1_macro')\n",
    "grid.fit(X, df['sentiment'])\n",
    "grid_pred = score_model(grid)"
   ]
  },
  {
   "cell_type": "code",
   "execution_count": 22,
   "metadata": {},
   "outputs": [
    {
     "data": {
      "text/plain": [
       "['tfidf_vectorizer.pkl']"
      ]
     },
     "execution_count": 22,
     "metadata": {},
     "output_type": "execute_result"
    }
   ],
   "source": [
    "import joblib\n",
    "joblib.dump(grid, 'sentiment_analysis_82%.joblib')\n",
    "joblib.dump(vect, 'tfidf_vectorizer.pkl')"
   ]
  },
  {
   "cell_type": "code",
   "execution_count": 42,
   "metadata": {},
   "outputs": [],
   "source": [
    "def classify_text(probabilities, threshold=0.5):\n",
    "    \"\"\"Classify text using the model\"\"\"\n",
    "    labels = []\n",
    "    for p in probabilities:\n",
    "        neg  = p[0]\n",
    "        pos = p[1]\n",
    "        if abs(neg - pos) <= threshold:\n",
    "            labels.append(-1)\n",
    "        else:\n",
    "            labels.append(0 if pos < neg else 1)\n",
    "\n",
    "    return labels\n",
    "\n",
    "\n",
    "labeling = classify_text(lr_prob)"
   ]
  },
  {
   "cell_type": "markdown",
   "metadata": {},
   "source": [
    "# Quick test"
   ]
  },
  {
   "cell_type": "code",
   "execution_count": null,
   "metadata": {},
   "outputs": [],
   "source": [
    "t = \"sky is beautiful\"\n",
    "cleaned_text = pre.preprocess(t)\n",
    "\n",
    "X_new = vect.transform([cleaned_text])\n",
    "\n",
    "probs = lr.predict_proba(X_new)\n",
    "sentiment = classify_text(probs, 0.5)\n",
    "print(f\"Sentiment: {sentiment}\")"
   ]
  },
  {
   "cell_type": "code",
   "execution_count": 26,
   "metadata": {},
   "outputs": [
    {
     "name": "stdout",
     "output_type": "stream",
     "text": [
      "Human-readable Predictions: ['Positive', 'Positive', 'Negative', 'Positive', 'Positive']\n"
     ]
    }
   ],
   "source": [
    "\n",
    "new_texts = [\"I love this product, it is amazing!\",\"Monday is a day\", \"I hate this experience, never again.\", \"Damn! i love it \", \"The sky is blue\"]\n",
    "\n",
    "preprocessed_texts = [pre.preprocess(text) for text in new_texts]\n",
    "new_texts_tfidf = vect.transform(preprocessed_texts)\n",
    "\n",
    "new_predictions = grid.predict(new_texts_tfidf)\n",
    "\n",
    "label_map = {0: \"Negative\", 1: \"Positive\"}  \n",
    "translated_predictions = [label_map[pred] for pred in new_predictions]\n",
    "\n",
    "print(\"Human-readable Predictions:\", translated_predictions)\n"
   ]
  },
  {
   "cell_type": "code",
   "execution_count": null,
   "metadata": {},
   "outputs": [],
   "source": []
  }
 ],
 "metadata": {
  "kernelspec": {
   "display_name": "Myenv",
   "language": "python",
   "name": "python3"
  },
  "language_info": {
   "codemirror_mode": {
    "name": "ipython",
    "version": 3
   },
   "file_extension": ".py",
   "mimetype": "text/x-python",
   "name": "python",
   "nbconvert_exporter": "python",
   "pygments_lexer": "ipython3",
   "version": "3.13.0"
  }
 },
 "nbformat": 4,
 "nbformat_minor": 2
}
